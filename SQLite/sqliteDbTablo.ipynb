{
 "cells": [
  {
   "cell_type": "markdown",
   "id": "b7bbf646",
   "metadata": {},
   "source": [
    "# Python ile SQLite Veritabanı ve Tablo oluşturma"
   ]
  },
  {
   "cell_type": "code",
   "execution_count": 1,
   "id": "3bb4dc5e",
   "metadata": {},
   "outputs": [],
   "source": [
    "import sqlite3\n",
    "from sqlite3 import Error"
   ]
  },
  {
   "cell_type": "code",
   "execution_count": 2,
   "id": "0b3a86d0",
   "metadata": {},
   "outputs": [],
   "source": [
    "#Daha sonra oluşturacağımız veya daha önce oluşturduğumuz veritabanı için\n",
    "#Bir connection nesnesi oluşturan bir metod tanımlıyoruz\n",
    "\n",
    "def connection_olustur(db_file):\n",
    "    con=None\n",
    "    try:\n",
    "        con=sqlite3.connect(db_file)\n",
    "        print(\"Connection oluşturuldu..\")\n",
    "    except Error as e:\n",
    "        print(\"Hata oluştu : \",e)\n",
    "    return con\n",
    "\n",
    "     "
   ]
  },
  {
   "cell_type": "code",
   "execution_count": 3,
   "id": "e6779296",
   "metadata": {},
   "outputs": [
    {
     "name": "stdout",
     "output_type": "stream",
     "text": [
      "Connection oluşturuldu..\n"
     ]
    }
   ],
   "source": [
    "#yukarıda tanımladığımız metodu kullanarak sqlite bağlantı nesnesi oluşturuypruz\n",
    "sqlite_connection=connection_olustur(\"kutuphane.db\")\n"
   ]
  },
  {
   "cell_type": "code",
   "execution_count": 4,
   "id": "2c36425a",
   "metadata": {},
   "outputs": [],
   "source": [
    "#Eğer herhangi bir hata nedeniyle veritabanı oluşturulamadıysa veya zaten\n",
    "#var olan bir veritabanına bağlantı nesnesi oluşturulmadıysa bu durumda \n",
    "#bir hata mesajı verip programdan çıkmamız gerekiyor.\n",
    "if(sqlite_connection==None):\n",
    "    pritn(\"Veritabanına bağlantı sağlanamadı, program kapanıyor\")\n",
    "    exit()"
   ]
  },
  {
   "cell_type": "markdown",
   "id": "d606982f",
   "metadata": {},
   "source": [
    "# Veritabanında Tablo Oluşturma\n"
   ]
  },
  {
   "cell_type": "code",
   "execution_count": 5,
   "id": "c1793ae9",
   "metadata": {},
   "outputs": [],
   "source": [
    "#Tablo oluşturmak için önce bi cursor oluşturmamız gerekiyor\n",
    "cursor=sqlite_connection.cursor()"
   ]
  },
  {
   "cell_type": "code",
   "execution_count": 6,
   "id": "876747b7",
   "metadata": {},
   "outputs": [],
   "source": [
    "#tabloyu oluşturmak için(Hataları görebileceğimiz) bir fonksiyon yazalım\n",
    "def tablo_olusturma(curs):\n",
    "    try:\n",
    "        curs.execute(\"CREATE TABLE IF NOT EXISTS kitaplar(kitapadi TEXT, yazar TEXT,kitapno INT, sayfasayisi INT)\")\n",
    "    except Error as e:\n",
    "        print(\"Hata oluştu:\",e)"
   ]
  },
  {
   "cell_type": "code",
   "execution_count": 7,
   "id": "7806f1c2",
   "metadata": {},
   "outputs": [],
   "source": [
    "#kitaplar isim tablomuzun kütühane veritabanımızın içinde oluşturalım\n",
    "tablo_olusturma(cursor)\n",
    "sqlite_connection.commit()"
   ]
  },
  {
   "cell_type": "code",
   "execution_count": 8,
   "id": "2a93b34d",
   "metadata": {},
   "outputs": [],
   "source": [
    "#Son olarak da daha önce oluşturduğumuz veritabanı bağlantısını program bitişinde kapatıyoruz\n",
    "if sqlite_connection:\n",
    "    sqlite_connection.close()"
   ]
  },
  {
   "cell_type": "code",
   "execution_count": null,
   "id": "f79f939d",
   "metadata": {},
   "outputs": [],
   "source": []
  }
 ],
 "metadata": {
  "kernelspec": {
   "display_name": "Python 3 (ipykernel)",
   "language": "python",
   "name": "python3"
  },
  "language_info": {
   "codemirror_mode": {
    "name": "ipython",
    "version": 3
   },
   "file_extension": ".py",
   "mimetype": "text/x-python",
   "name": "python",
   "nbconvert_exporter": "python",
   "pygments_lexer": "ipython3",
   "version": "3.11.5"
  }
 },
 "nbformat": 4,
 "nbformat_minor": 5
}
