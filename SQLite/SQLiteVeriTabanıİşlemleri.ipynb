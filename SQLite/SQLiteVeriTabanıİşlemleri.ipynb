{
 "cells": [
  {
   "cell_type": "markdown",
   "id": "5978bc16",
   "metadata": {},
   "source": [
    "# SQLite Tabloya Kayıt Atma\n"
   ]
  },
  {
   "cell_type": "code",
   "execution_count": 1,
   "id": "6e30fb55",
   "metadata": {},
   "outputs": [],
   "source": [
    "import sqlite3\n",
    "import sqlite3 as Error"
   ]
  },
  {
   "cell_type": "code",
   "execution_count": 5,
   "id": "a3b028b5",
   "metadata": {},
   "outputs": [],
   "source": [
    "def connection_olustur(db_file):\n",
    "    con=None\n",
    "    try:\n",
    "        con = sqlite3.connect(db_file)\n",
    "        print(\"Connection Oluşturuldu..\")\n",
    "    except Error as e:\n",
    "        print(\"Hata Oluştu: \",e)\n",
    "    return con"
   ]
  },
  {
   "cell_type": "code",
   "execution_count": 6,
   "id": "119869f5",
   "metadata": {},
   "outputs": [
    {
     "name": "stdout",
     "output_type": "stream",
     "text": [
      "Connection Oluşturuldu..\n"
     ]
    }
   ],
   "source": [
    "sqlite_connection=connection_olustur(\"kutuphane.db\")"
   ]
  },
  {
   "cell_type": "code",
   "execution_count": 7,
   "id": "2e8ccb68",
   "metadata": {},
   "outputs": [],
   "source": [
    "if(sqlite_connection==None):\n",
    "    print(\"Veritabanı tablosuna bağlanılamadı, program kapanıyor..\")\n",
    "    exit()"
   ]
  },
  {
   "cell_type": "code",
   "execution_count": 8,
   "id": "f896e973",
   "metadata": {},
   "outputs": [],
   "source": [
    "cursor=sqlite_connection.cursor()"
   ]
  },
  {
   "cell_type": "code",
   "execution_count": 9,
   "id": "5e377b82",
   "metadata": {},
   "outputs": [],
   "source": [
    "def tablo_olustur(curs):\n",
    "    try:\n",
    "        curs.execute(\"CREATE TABLE IF NOT EXISTS kitaplar(kitapadi TEXT, yazar TEXT, kitapno INT, sayfasayisi INT)\")\n",
    "    except Error as e:\n",
    "        print(\"Hata oluştu: \",e)\n",
    "        "
   ]
  },
  {
   "cell_type": "code",
   "execution_count": 10,
   "id": "0c0e68b4",
   "metadata": {},
   "outputs": [],
   "source": [
    "tablo_olustur(cursor)\n",
    "sqlite_connection.commit()"
   ]
  },
  {
   "cell_type": "markdown",
   "id": "5b3098e7",
   "metadata": {},
   "source": [
    "#  Tabloya Kayıt Atma\n"
   ]
  },
  {
   "cell_type": "code",
   "execution_count": 13,
   "id": "bc3eb2a7",
   "metadata": {},
   "outputs": [
    {
     "data": {
      "text/plain": [
       "<sqlite3.Cursor at 0x1ec7d3c1c40>"
      ]
     },
     "execution_count": 13,
     "metadata": {},
     "output_type": "execute_result"
    }
   ],
   "source": [
    "cursor.execute(\"INSERT INTO kitaplar VALUES ('Da Vinci Şifresi','Dan Brown',1000,495)\")\n"
   ]
  },
  {
   "cell_type": "code",
   "execution_count": 14,
   "id": "7c32abc9",
   "metadata": {},
   "outputs": [],
   "source": [
    "sqlite_connection.commit()"
   ]
  },
  {
   "cell_type": "code",
   "execution_count": 17,
   "id": "47722007",
   "metadata": {
    "scrolled": true
   },
   "outputs": [
    {
     "data": {
      "text/plain": [
       "<sqlite3.Cursor at 0x1ec7d3c1c40>"
      ]
     },
     "execution_count": 17,
     "metadata": {},
     "output_type": "execute_result"
    }
   ],
   "source": [
    "cursor.execute(\"INSERT INTO kitaplar VALUES ('Dune','Frank Herbert',1001,296)\")\n"
   ]
  },
  {
   "cell_type": "code",
   "execution_count": 18,
   "id": "661a9d95",
   "metadata": {},
   "outputs": [],
   "source": [
    "sqlite_connection.commit()"
   ]
  },
  {
   "cell_type": "code",
   "execution_count": 21,
   "id": "5ba00a84",
   "metadata": {},
   "outputs": [
    {
     "data": {
      "text/plain": [
       "<sqlite3.Cursor at 0x1ec7d3c1c40>"
      ]
     },
     "execution_count": 21,
     "metadata": {},
     "output_type": "execute_result"
    }
   ],
   "source": [
    "cursor.execute(\"INSERT INTO kitaplar VALUES ('Yüzüklerin Efendisi','J.R.R. Tolkien',1002,865)\")\n"
   ]
  },
  {
   "cell_type": "code",
   "execution_count": 22,
   "id": "c5f756c5",
   "metadata": {},
   "outputs": [],
   "source": [
    "sqlite_connection.commit()"
   ]
  },
  {
   "cell_type": "markdown",
   "id": "f53e2426",
   "metadata": {},
   "source": [
    "#  Tablodan Veri Çekme\n"
   ]
  },
  {
   "cell_type": "code",
   "execution_count": 26,
   "id": "43d73d18",
   "metadata": {},
   "outputs": [
    {
     "data": {
      "text/plain": [
       "<sqlite3.Cursor at 0x1ec7d3c1c40>"
      ]
     },
     "execution_count": 26,
     "metadata": {},
     "output_type": "execute_result"
    }
   ],
   "source": [
    "cursor.execute(\"SELECT * FROM kitaplar\")"
   ]
  },
  {
   "cell_type": "code",
   "execution_count": 27,
   "id": "91c16687",
   "metadata": {},
   "outputs": [],
   "source": [
    "gelen_veri=cursor.fetchall()"
   ]
  },
  {
   "cell_type": "code",
   "execution_count": 28,
   "id": "83be8554",
   "metadata": {},
   "outputs": [
    {
     "name": "stdout",
     "output_type": "stream",
     "text": [
      "('Da Vinci Şifresi', 'Dan Brown', 1000, 495)\n",
      "('Dune', 'Frank Herbert', 1001, 296)\n",
      "('Yüzüklerin Efendisi', 'J.R.R. Tolkien', 1002, 865)\n"
     ]
    }
   ],
   "source": [
    "for each in gelen_veri:\n",
    "    print(each)"
   ]
  },
  {
   "cell_type": "code",
   "execution_count": 29,
   "id": "7dd59698",
   "metadata": {},
   "outputs": [
    {
     "data": {
      "text/plain": [
       "<sqlite3.Cursor at 0x1ec7d3c1c40>"
      ]
     },
     "execution_count": 29,
     "metadata": {},
     "output_type": "execute_result"
    }
   ],
   "source": [
    "cursor.execute(\"SELECT * From kitaplar WHERE sayfasayisi>400\")"
   ]
  },
  {
   "cell_type": "code",
   "execution_count": 30,
   "id": "2e6598c2",
   "metadata": {},
   "outputs": [],
   "source": [
    "gelen_veri1=cursor.fetchall()"
   ]
  },
  {
   "cell_type": "code",
   "execution_count": 31,
   "id": "8e04b4c1",
   "metadata": {},
   "outputs": [
    {
     "name": "stdout",
     "output_type": "stream",
     "text": [
      "('Da Vinci Şifresi', 'Dan Brown', 1000, 495)\n",
      "('Yüzüklerin Efendisi', 'J.R.R. Tolkien', 1002, 865)\n"
     ]
    }
   ],
   "source": [
    "for each in gelen_veri1:\n",
    "    print(each)"
   ]
  },
  {
   "cell_type": "markdown",
   "id": "179a2aeb",
   "metadata": {},
   "source": [
    "#  Tablodaki Verileri Güncelleme"
   ]
  },
  {
   "cell_type": "code",
   "execution_count": 32,
   "id": "c028e984",
   "metadata": {},
   "outputs": [
    {
     "data": {
      "text/plain": [
       "<sqlite3.Cursor at 0x1ec7d3c1c40>"
      ]
     },
     "execution_count": 32,
     "metadata": {},
     "output_type": "execute_result"
    }
   ],
   "source": [
    "cursor.execute(\"UPDATE kitaplar SET sayfasayisi=999 WHERE sayfasayisi>400\")"
   ]
  },
  {
   "cell_type": "code",
   "execution_count": 33,
   "id": "dbdccb7d",
   "metadata": {},
   "outputs": [],
   "source": [
    "sqlite_connection.commit()"
   ]
  },
  {
   "cell_type": "markdown",
   "id": "9f086d1a",
   "metadata": {},
   "source": [
    "#  Tablodaki Verileri Silme"
   ]
  },
  {
   "cell_type": "code",
   "execution_count": 35,
   "id": "16274386",
   "metadata": {},
   "outputs": [
    {
     "data": {
      "text/plain": [
       "<sqlite3.Cursor at 0x1ec7d3c1c40>"
      ]
     },
     "execution_count": 35,
     "metadata": {},
     "output_type": "execute_result"
    }
   ],
   "source": [
    "cursor.execute(\"DELETE FROM kitaplar WHERE kitapno=1001\")"
   ]
  },
  {
   "cell_type": "code",
   "execution_count": 36,
   "id": "75664664",
   "metadata": {},
   "outputs": [],
   "source": [
    "sqlite_connection.commit()"
   ]
  },
  {
   "cell_type": "code",
   "execution_count": 38,
   "id": "b1720be8",
   "metadata": {},
   "outputs": [
    {
     "name": "stdout",
     "output_type": "stream",
     "text": [
      "('Da Vinci Şifresi', 'Dan Brown', 1000, 999)\n",
      "('Yüzüklerin Efendisi', 'J.R.R. Tolkien', 1002, 999)\n"
     ]
    }
   ],
   "source": [
    "cursor.execute(\"SELECT * FROM kitaplar\")\n",
    "gelen_veri2=cursor.fetchall()\n",
    "for each in gelen_veri2:\n",
    "    print(each)"
   ]
  },
  {
   "cell_type": "code",
   "execution_count": 39,
   "id": "a5e86d40",
   "metadata": {},
   "outputs": [],
   "source": [
    "if sqlite_connection:\n",
    "    sqlite_connection.close()"
   ]
  },
  {
   "cell_type": "code",
   "execution_count": null,
   "id": "b3619eaa",
   "metadata": {},
   "outputs": [],
   "source": []
  }
 ],
 "metadata": {
  "kernelspec": {
   "display_name": "Python 3 (ipykernel)",
   "language": "python",
   "name": "python3"
  },
  "language_info": {
   "codemirror_mode": {
    "name": "ipython",
    "version": 3
   },
   "file_extension": ".py",
   "mimetype": "text/x-python",
   "name": "python",
   "nbconvert_exporter": "python",
   "pygments_lexer": "ipython3",
   "version": "3.11.5"
  }
 },
 "nbformat": 4,
 "nbformat_minor": 5
}
